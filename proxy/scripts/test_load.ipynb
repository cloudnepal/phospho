{
 "cells": [
  {
   "cell_type": "code",
   "execution_count": 1,
   "metadata": {},
   "outputs": [
    {
     "name": "stderr",
     "output_type": "stream",
     "text": [
      "No job_config provided. Running with empty config\n"
     ]
    },
    {
     "name": "stdout",
     "output_type": "stream",
     "text": [
      "Calling: https://phospho-prox...\n"
     ]
    },
    {
     "name": "stderr",
     "output_type": "stream",
     "text": [
      "100%|██████████| 1/1 [00:00<00:00,  2.36it/s]\n"
     ]
    }
   ],
   "source": [
    "import phospho\n",
    "import openai\n",
    "\n",
    "from dotenv import load_dotenv\n",
    "\n",
    "load_dotenv()\n",
    "\n",
    "openai_client = openai.AsyncOpenAI()\n",
    "\n",
    "\n",
    "async def test_call(message: phospho.lab.Message):\n",
    "    response = await openai_client.chat.completions.create(\n",
    "        messages=[{\"role\": \"system\", \"content\": \"Say hello\"}],\n",
    "        model=\"gpt-3.5-turbo\",\n",
    "        max_tokens=3,\n",
    "    )\n",
    "    return response\n",
    "\n",
    "\n",
    "print(f\"Calling: {str(openai_client.base_url)[:20]}...\")\n",
    "\n",
    "workload = phospho.lab.Workload(jobs=[test_call])\n",
    "results = await workload.async_run(\n",
    "    messages=[phospho.lab.Message(content=\"test\")],\n",
    ")"
   ]
  }
 ],
 "metadata": {
  "kernelspec": {
   "display_name": "phospho-env-min",
   "language": "python",
   "name": "python3"
  },
  "language_info": {
   "codemirror_mode": {
    "name": "ipython",
    "version": 3
   },
   "file_extension": ".py",
   "mimetype": "text/x-python",
   "name": "python",
   "nbconvert_exporter": "python",
   "pygments_lexer": "ipython3",
   "version": "3.11.7"
  }
 },
 "nbformat": 4,
 "nbformat_minor": 2
}
