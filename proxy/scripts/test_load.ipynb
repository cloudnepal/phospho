{
 "cells": [
  {
   "cell_type": "code",
   "execution_count": 2,
   "metadata": {},
   "outputs": [
    {
     "name": "stderr",
     "output_type": "stream",
     "text": [
      "No job_config provided. Running with empty config\n"
     ]
    },
    {
     "name": "stdout",
     "output_type": "stream",
     "text": [
      "Calling: https://phospho-prox...\n"
     ]
    },
    {
     "name": "stderr",
     "output_type": "stream",
     "text": [
      "100%|█████████▉| 9980/10000 [01:01<00:00, 606.36it/s]"
     ]
    }
   ],
   "source": [
    "import phospho\n",
    "import openai\n",
    "\n",
    "from dotenv import load_dotenv\n",
    "\n",
    "load_dotenv()\n",
    "\n",
    "openai_client = openai.AsyncOpenAI()\n",
    "\n",
    "\n",
    "async def test_call(message: phospho.lab.Message):\n",
    "    response = await openai_client.chat.completions.create(\n",
    "        messages=[{\"role\": \"system\", \"content\": f\"Say hello to {message.content}\"}],\n",
    "        model=\"gpt-3.5-turbo\",\n",
    "        max_tokens=1,\n",
    "        timeout=1,\n",
    "    )\n",
    "    return response\n",
    "\n",
    "\n",
    "print(f\"Calling: {str(openai_client.base_url)[:20]}...\")\n",
    "\n",
    "workload = phospho.lab.Workload(jobs=[test_call])\n",
    "messages = [\n",
    "    phospho.lab.Message(content=phospho.utils.generate_uuid()) for i in range(10000)\n",
    "]\n",
    "results = await workload.async_run(\n",
    "    messages=messages,\n",
    "    max_parallelism=10000,\n",
    ")"
   ]
  },
  {
   "cell_type": "code",
   "execution_count": 6,
   "metadata": {},
   "outputs": [
    {
     "data": {
      "text/plain": [
       "10000"
      ]
     },
     "execution_count": 6,
     "metadata": {},
     "output_type": "execute_result"
    }
   ],
   "source": [
    "for result in results:\n",
    "    print(result)"
   ]
  }
 ],
 "metadata": {
  "kernelspec": {
   "display_name": "phospho-env-min",
   "language": "python",
   "name": "python3"
  },
  "language_info": {
   "codemirror_mode": {
    "name": "ipython",
    "version": 3
   },
   "file_extension": ".py",
   "mimetype": "text/x-python",
   "name": "python",
   "nbconvert_exporter": "python",
   "pygments_lexer": "ipython3",
   "version": "3.11.7"
  }
 },
 "nbformat": 4,
 "nbformat_minor": 2
}
